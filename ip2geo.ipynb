{
 "cells": [
  {
   "cell_type": "code",
   "execution_count": 1,
   "metadata": {
    "collapsed": false
   },
   "outputs": [],
   "source": [
    "#spark\n",
    "__author__ = 'vcoder'\n",
    "\n",
    "import os\n",
    "import sys\n",
    "\n",
    "#change them when spark and pyspark path changes\n",
    "\n",
    "#SPARK_HOME = \"/home/vcoder/EDA/spark-1.5.0\"\n",
    "#SPARK_HOME_PYTHON = SPARK_HOME + \"/python\"\n",
    "\n",
    "SPARK_HOME = \"/home/worker/software/spark-1.5.0\"\n",
    "SPARK_HOME_PYTHON = SPARK_HOME + \"/python\"\n",
    "\n",
    "os.environ['SPARK_HOME'] = SPARK_HOME\n",
    "sys.path.append(SPARK_HOME_PYTHON)\n",
    "\n",
    "from pyspark import SparkContext\n",
    "from pyspark import SparkConf"
   ]
  },
  {
   "cell_type": "code",
   "execution_count": 2,
   "metadata": {
    "collapsed": false
   },
   "outputs": [],
   "source": [
    "import geoip2.database\n",
    "reader = geoip2.database.Reader('GeoLite2-City.mmdb')\n",
    "\n",
    "def ip2city(ip):\n",
    "    try:\n",
    "        city = reader.city(ip).city.name\n",
    "    except:\n",
    "        city = 'not found'\n",
    "    return city\n",
    "\n",
    "def ip2lalo(ip):\n",
    "    try:\n",
    "        la = reader.city(ip).location.latitude\n",
    "        lo = reader.city(ip).location.longitude\n",
    "    except:\n",
    "        la = 0.\n",
    "        lo = 0.\n",
    "    return (la, lo)\n"
   ]
  },
  {
   "cell_type": "code",
   "execution_count": 3,
   "metadata": {
    "collapsed": true
   },
   "outputs": [],
   "source": [
    "import pymongo\n",
    "from pymongo import MongoClient\n",
    "client = MongoClient()"
   ]
  },
  {
   "cell_type": "code",
   "execution_count": 4,
   "metadata": {
    "collapsed": true
   },
   "outputs": [],
   "source": [
    "sc = SparkContext('local', 'ip2geo')"
   ]
  },
  {
   "cell_type": "code",
   "execution_count": 5,
   "metadata": {
    "collapsed": true
   },
   "outputs": [],
   "source": [
    "raw = sc.textFile('csv/output.csv')\n",
    "#ipAndGeo = raw.map(lambda x: x.split(',')).map(lambda x: ((x[0],ip2city(x[0])), (x[1],ip2city(x[1]))))"
   ]
  },
  {
   "cell_type": "code",
   "execution_count": 19,
   "metadata": {
    "collapsed": false
   },
   "outputs": [
    {
     "name": "stdout",
     "output_type": "stream",
     "text": [
      "[u'.', u'1', u'0', u'3', u'2', u'5', u'4', u'7', u'6', u'9', u'8']\n"
     ]
    }
   ],
   "source": [
    "#print ipAndGeo.collect()[0:1]\n",
    "print raw.map(lambda x: x[2]).distinct().collect()"
   ]
  },
  {
   "cell_type": "code",
   "execution_count": 18,
   "metadata": {
    "collapsed": false
   },
   "outputs": [
    {
     "name": "stdout",
     "output_type": "stream",
     "text": [
      "None\n"
     ]
    }
   ],
   "source": [
    "print ip2city('51.173.229.255')"
   ]
  },
  {
   "cell_type": "code",
   "execution_count": 12,
   "metadata": {
    "collapsed": false
   },
   "outputs": [
    {
     "name": "stdout",
     "output_type": "stream",
     "text": [
      "[[u'0.000000000', u'51.173.229.255', u'71.126.222.64', u'1'], [u'0.000004000', u'51.173.229.255', u'71.126.222.64', u'1'], [u'0.001440000', u'39.247.10.192', u'71.126.222.64', u'1'], [u'0.001445000', u'71.126.222.64', u'39.247.10.192', u'1']]\n"
     ]
    }
   ],
   "source": [
    "raw2 = raw.map(lambda x: x.split(','))\n",
    "print raw2.collect()[0:4]"
   ]
  },
  {
   "cell_type": "code",
   "execution_count": 15,
   "metadata": {
    "collapsed": false
   },
   "outputs": [
    {
     "name": "stdout",
     "output_type": "stream",
     "text": [
      "31\n"
     ]
    }
   ],
   "source": [
    "print raw2.map(lambda x: x[2]).distinct().count()"
   ]
  },
  {
   "cell_type": "code",
   "execution_count": 9,
   "metadata": {
    "collapsed": false
   },
   "outputs": [
    {
     "name": "stdout",
     "output_type": "stream",
     "text": [
      "51.173.229.255\n"
     ]
    }
   ],
   "source": [
    "raw3 = raw2.map(lambda x: (x[1], x[2]))\n",
    "print raw3.collect()[0][0]"
   ]
  },
  {
   "cell_type": "code",
   "execution_count": 11,
   "metadata": {
    "collapsed": false
   },
   "outputs": [
    {
     "name": "stdout",
     "output_type": "stream",
     "text": [
      "[None, None, None, None, u'Palo Alto', u'Montreal', u'Honiara', u'Montreal', None]\n"
     ]
    }
   ],
   "source": [
    "#raw4 = raw3.map(lambda x: ip2lalo(x[0]))\n",
    "#print raw4.collect()[0]\n",
    "info = map(lambda x: ip2city(x[0]), raw3.collect()[0:10000])\n",
    "# for ips in raw3.collect():\n",
    "#     city = ip2city(ips[0])\n",
    "#     lalo = ip2lalo(ips[0])\n",
    "#     info.append((city, lalo))\n",
    "\n",
    "raw4 = sc.parallelize(info);\n",
    "print raw4.collect()[0:9]"
   ]
  },
  {
   "cell_type": "code",
   "execution_count": null,
   "metadata": {
    "collapsed": false
   },
   "outputs": [],
   "source": [
    "print ip2lalo(u'128.101.101.101')\n",
    "print type(reader.city('128.101.101.101').city.name)"
   ]
  },
  {
   "cell_type": "code",
   "execution_count": 16,
   "metadata": {
    "collapsed": false
   },
   "outputs": [],
   "source": [
    "src = raw3.map(lambda x: x[0]).take(1000)\n",
    "#print src[0:9]\n",
    "srcAndLoc = map(lambda x: [x, ip2city(x), ip2lalo(x)], src)"
   ]
  },
  {
   "cell_type": "code",
   "execution_count": 18,
   "metadata": {
    "collapsed": false
   },
   "outputs": [
    {
     "name": "stdout",
     "output_type": "stream",
     "text": [
      "[[u'51.173.229.255', None, (51.5, -0.13)], [u'51.173.229.255', None, (51.5, -0.13)], [u'39.247.10.192', None, (-6.175, 106.8286)], [u'71.126.222.64', None, (38.0, -97.0)], [u'192.120.148.227', u'Palo Alto', (37.3762, -122.1826)], [u'192.95.27.190', u'Montreal', (45.504, -73.5747)], [u'202.1.175.252', u'Honiara', (-9.4333, 159.95)], [u'192.95.27.190', u'Montreal', (45.504, -73.5747)], [u'51.173.229.255', None, (51.5, -0.13)], [u'192.120.148.227', u'Palo Alto', (37.3762, -122.1826)]]\n"
     ]
    }
   ],
   "source": [
    "print srcAndLoc[0:10]"
   ]
  },
  {
   "cell_type": "code",
   "execution_count": 43,
   "metadata": {
    "collapsed": false
   },
   "outputs": [
    {
     "name": "stdout",
     "output_type": "stream",
     "text": [
      "24\n"
     ]
    }
   ],
   "source": [
    "aa = sc.parallelize([1,2,3])#.map(lambda x: (x,0))\n",
    "bb = sc.parallelize([4,5,6,3])#.map(lambda x: (x,0))\n",
    "cc = aa.union(bb)#.map(lambda (k,v): k)\n",
    "print cc.sum()"
   ]
  },
  {
   "cell_type": "code",
   "execution_count": 38,
   "metadata": {
    "collapsed": false
   },
   "outputs": [
    {
     "name": "stdout",
     "output_type": "stream",
     "text": [
      "[1, 2]\n"
     ]
    }
   ],
   "source": [
    "print aa.take(2)"
   ]
  },
  {
   "cell_type": "code",
   "execution_count": 40,
   "metadata": {
    "collapsed": false
   },
   "outputs": [
    {
     "name": "stdout",
     "output_type": "stream",
     "text": [
      "[6, 5, 4, 3, 3]\n"
     ]
    }
   ],
   "source": [
    "print cc.top(5)"
   ]
  }
 ],
 "metadata": {
  "kernelspec": {
   "display_name": "Python 2",
   "language": "python",
   "name": "python2"
  },
  "language_info": {
   "codemirror_mode": {
    "name": "ipython",
    "version": 2
   },
   "file_extension": ".py",
   "mimetype": "text/x-python",
   "name": "python",
   "nbconvert_exporter": "python",
   "pygments_lexer": "ipython2",
   "version": "2.7.6"
  }
 },
 "nbformat": 4,
 "nbformat_minor": 0
}
