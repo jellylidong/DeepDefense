{
 "cells": [
  {
   "cell_type": "code",
   "execution_count": null,
   "metadata": {
    "collapsed": true
   },
   "outputs": [],
   "source": [
    "#run script to extract data from pcap\n",
    "#in this script, input data format is:\n",
    "#time, src, dst, length, protocol"
   ]
  },
  {
   "cell_type": "code",
   "execution_count": 3,
   "metadata": {
    "collapsed": true
   },
   "outputs": [],
   "source": [
    "#spark\n",
    "__author__ = 'vcoder'\n",
    "\n",
    "import os\n",
    "import sys\n",
    "\n",
    "#change them when spark and pyspark path changes\n",
    "\n",
    "#SPARK_HOME = \"/home/vcoder/EDA/spark-1.5.0\"\n",
    "#SPARK_HOME_PYTHON = SPARK_HOME + \"/python\"\n",
    "\n",
    "SPARK_HOME = \"/home/worker/software/spark-1.5.0\"\n",
    "SPARK_HOME_PYTHON = SPARK_HOME + \"/python\"\n",
    "\n",
    "os.environ['SPARK_HOME'] = SPARK_HOME\n",
    "sys.path.append(SPARK_HOME_PYTHON)\n",
    "\n",
    "from pyspark import SparkContext\n",
    "from pyspark import SparkConf\n",
    "\n",
    "import geoip2.database\n",
    "reader = geoip2.database.Reader('GeoLite2-City.mmdb')\n",
    "\n",
    "def ip2city(ip):\n",
    "    try:\n",
    "        city = reader.city(ip).city.name\n",
    "    except:\n",
    "        city = 'not found'\n",
    "    return city\n",
    "\n",
    "def ip2la(ip):\n",
    "    try:\n",
    "        la = reader.city(ip).location.latitude\n",
    "    except:\n",
    "        la = 0.\n",
    "    return la\n",
    "\n",
    "def ip2lo(ip):\n",
    "    try:\n",
    "        lo = reader.city(ip).location.longitude\n",
    "    except:\n",
    "        lo = 0.\n",
    "    return lo\n",
    "\n",
    "def ip2country(ip):\n",
    "    try:\n",
    "        co = reader.city(ip).country.name\n",
    "    except:\n",
    "        co = 'not found'\n",
    "    return co\n"
   ]
  },
  {
   "cell_type": "code",
   "execution_count": 5,
   "metadata": {
    "collapsed": true
   },
   "outputs": [],
   "source": [
    "sc = SparkContext('local', 'ip2geo')"
   ]
  },
  {
   "cell_type": "code",
   "execution_count": 3,
   "metadata": {
    "collapsed": true
   },
   "outputs": [],
   "source": [
    "csvPath = 'csv/output.csv'"
   ]
  },
  {
   "cell_type": "code",
   "execution_count": null,
   "metadata": {
    "collapsed": true
   },
   "outputs": [],
   "source": [
    "import sys\n",
    "#number of top x\n",
    "x = int(sys.argv[2])"
   ]
  },
  {
   "cell_type": "code",
   "execution_count": 25,
   "metadata": {
    "collapsed": false
   },
   "outputs": [
    {
     "name": "stdout",
     "output_type": "stream",
     "text": [
      "[u'198.241.159.205', u'60.50.181.52', u'188.72.200.132', u'64.113.118.122', u'41.215.236.152', u'202.1.175.252', u'195.198.120.238', u'71.126.222.64', u'198.241.158.183']\n"
     ]
    }
   ],
   "source": [
    "raw = (sc.textFile(csvPath).map(lambda x: x.split(','))\n",
    "       .map(lambda x: (x[1], x[2], float(x[3]), x[4]))) #delimiter may need to change\n",
    "                      #src, dst, dataLength, protocol\n",
    "\n",
    "# src_topXpkts = (raw.map(lambda x: (x[0], x[1])).groupByKey()\n",
    "#        .map(lambda x: (x[0], len(x)-1))).takeOrdered(x, key = lambda x: -x[1])\n",
    "\n",
    "# dst_topXpkts = (raw.map(lambda x: (x[1], x[0])).groupByKey()\n",
    "#        .map(lambda x: (x[0], len(x)-1))).takeOrdered(x, key = lambda x: -x[1])\n",
    "\n",
    "# src_topXdata = (raw.map(lambda x: (x[0], x[2])).groupByKey()\n",
    "#        .map(lambda x: (x[0], sum(x[1:])))).takeOrdered(x, key = lambda x: -x[1])\n",
    "\n",
    "# dst_topXdata = (raw.map(lambda x: (x[1], x[2])).groupByKey()\n",
    "#        .map(lambda x: (x[0], sum(x[1:])))).takeOrdered(x, key = lambda x: -x[1])\n",
    "\n",
    "# protocol_topX = raw.map(lambda x: (x[3], 1)).groupByKey().map(lambda x:(x[0], sum(x[1:])))\n",
    "# num = protocol_topX.count()\n",
    "# if nums > x:\n",
    "#     num = x\n",
    "# prtcol_topX = protocol_topX.takeOrdered(num, key = lambda x: -x[1])"
   ]
  },
  {
   "cell_type": "code",
   "execution_count": null,
   "metadata": {
    "collapsed": true
   },
   "outputs": [],
   "source": [
    "src_topXpkts = (raw.map(lambda x: (x[0], x[1])).groupByKey()\n",
    "       .map(lambda x: {'ip':x[0], 'rate':len(x)-1})).takeOrdered(x, key = lambda x: -x['rate'])\n",
    "\n",
    "dst_topXpkts = (raw.map(lambda x: (x[1], x[0])).groupByKey()\n",
    "       .map(lambda x: {'ip':x[0], 'rate':len(x)-1})).takeOrdered(x, key = lambda x: -x['rate'])\n",
    "\n",
    "src_topXdata = (raw.map(lambda x: (x[0], x[2])).groupByKey()\n",
    "       .map(lambda x: {'ip':x[0], 'rate':sum(x[1:])}).takeOrdered(x, key = lambda x: -x['rate'])\n",
    "\n",
    "dst_topXdata = (raw.map(lambda x: (x[1], x[2])).groupByKey()\n",
    "       .map(lambda x: {'ip':x[0], 'rate':sum(x[1:])}).takeOrdered(x, key = lambda x: -x['rate'])\n"
   ]
  },
  {
   "cell_type": "code",
   "execution_count": null,
   "metadata": {
    "collapsed": true
   },
   "outputs": [],
   "source": [
    "protocol_topX = raw.map(lambda x: (x[3], 1)).groupByKey().map(lambda x:{x[0], sum(x[1:])})\n",
    "num = protocol_topX.count()\n",
    "if nums > x:\n",
    "    num = x\n",
    "prtcol_topX = protocol_topX.takeOrdered(num, key = lambda x: -x.values[0])\n",
    "\n",
    "IP = []\n",
    "for x in prorol_topX:\n",
    "    IP.append({\n",
    "            'country' : x.keys[0],\n",
    "            'rate' : x.values[0]\n",
    "        })\n",
    "\n",
    "TopCountrySchema = {\n",
    "    'recordID' : 1, \n",
    "    'IP' : IP\n",
    "}\n"
   ]
  },
  {
   "cell_type": "code",
   "execution_count": null,
   "metadata": {
    "collapsed": true
   },
   "outputs": [],
   "source": [
    "TopSrcIPpktsSchema = {\n",
    "    'IP' : src_topXpkts\n",
    "}\n",
    "TopDstIPpktsSchema = {\n",
    "    'IP' : dst_topXpkts\n",
    "}\n",
    "\n",
    "TopSrcIPdataSchema = {\n",
    "    'IP' : src_topXdata\n",
    "}\n",
    "TopDstIPdataSchema = {\n",
    "    'IP' : dst_topXdata\n",
    "}"
   ]
  },
  {
   "cell_type": "code",
   "execution_count": 34,
   "metadata": {
    "collapsed": true
   },
   "outputs": [],
   "source": []
  },
  {
   "cell_type": "code",
   "execution_count": 35,
   "metadata": {
    "collapsed": false
   },
   "outputs": [
    {
     "data": {
      "text/plain": [
       "<pymongo.results.InsertOneResult at 0x7f881c5f0be0>"
      ]
     },
     "execution_count": 35,
     "metadata": {},
     "output_type": "execute_result"
    }
   ],
   "source": [
    "import pymongo\n",
    "from pymongo import MongoClient\n",
    "client = MongoClient()\n",
    "\n",
    "dbName = 'test'\n",
    "collectionName = 'Maps'\n",
    "\n",
    "db = client[dbName]\n",
    "collection = db[collectionName]\n",
    "\n",
    "collection.insert_one(ipDistribution)"
   ]
  },
  {
   "cell_type": "code",
   "execution_count": 36,
   "metadata": {
    "collapsed": true
   },
   "outputs": [],
   "source": [
    "sc.stop()"
   ]
  },
  {
   "cell_type": "code",
   "execution_count": 4,
   "metadata": {
    "collapsed": false
   },
   "outputs": [
    {
     "ename": "NameError",
     "evalue": "name 'sc' is not defined",
     "output_type": "error",
     "traceback": [
      "\u001b[1;31m---------------------------------------------------------------------------\u001b[0m",
      "\u001b[1;31mNameError\u001b[0m                                 Traceback (most recent call last)",
      "\u001b[1;32m<ipython-input-4-ebe31ca9f6de>\u001b[0m in \u001b[0;36m<module>\u001b[1;34m()\u001b[0m\n\u001b[0;32m      1\u001b[0m \u001b[0mb\u001b[0m \u001b[1;33m=\u001b[0m \u001b[1;33m[\u001b[0m\u001b[1;36m1\u001b[0m\u001b[1;33m,\u001b[0m\u001b[1;36m2\u001b[0m\u001b[1;33m,\u001b[0m\u001b[1;36m3\u001b[0m\u001b[1;33m,\u001b[0m\u001b[1;36m4\u001b[0m\u001b[1;33m,\u001b[0m\u001b[1;36m5\u001b[0m\u001b[1;33m]\u001b[0m\u001b[1;33m\u001b[0m\u001b[0m\n\u001b[1;32m----> 2\u001b[1;33m \u001b[0mc\u001b[0m \u001b[1;33m=\u001b[0m \u001b[0msc\u001b[0m\u001b[1;33m.\u001b[0m\u001b[0mparallelize\u001b[0m\u001b[1;33m(\u001b[0m\u001b[0mb\u001b[0m\u001b[1;33m)\u001b[0m\u001b[1;33m\u001b[0m\u001b[0m\n\u001b[0m\u001b[0;32m      3\u001b[0m \u001b[1;32mprint\u001b[0m \u001b[0mb\u001b[0m\u001b[1;33m.\u001b[0m\u001b[0mcollect\u001b[0m\u001b[1;33m(\u001b[0m\u001b[1;33m)\u001b[0m\u001b[1;33m\u001b[0m\u001b[0m\n",
      "\u001b[1;31mNameError\u001b[0m: name 'sc' is not defined"
     ]
    }
   ],
   "source": [
    "b = [1,2,3,4,5]\n",
    "c = sc.parallelize(b)\n",
    "print b.collect()"
   ]
  }
 ],
 "metadata": {
  "kernelspec": {
   "display_name": "Python 2",
   "language": "python",
   "name": "python2"
  },
  "language_info": {
   "codemirror_mode": {
    "name": "ipython",
    "version": 2
   },
   "file_extension": ".py",
   "mimetype": "text/x-python",
   "name": "python",
   "nbconvert_exporter": "python",
   "pygments_lexer": "ipython2",
   "version": "2.7.6"
  }
 },
 "nbformat": 4,
 "nbformat_minor": 0
}
