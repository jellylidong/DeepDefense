{
 "cells": [
  {
   "cell_type": "code",
   "execution_count": null,
   "metadata": {
    "collapsed": true
   },
   "outputs": [],
   "source": [
    "#spark\n",
    "__author__ = 'vcoder'\n",
    "\n",
    "import os\n",
    "import sys\n",
    "\n",
    "#change them when spark and pyspark path changes\n",
    "\n",
    "#SPARK_HOME = \"/home/vcoder/EDA/spark-1.5.0\"\n",
    "#SPARK_HOME_PYTHON = SPARK_HOME + \"/python\"\n",
    "\n",
    "SPARK_HOME = \"/home/worker/software/spark-1.5.0\"\n",
    "SPARK_HOME_PYTHON = SPARK_HOME + \"/python\"\n",
    "\n",
    "os.environ['SPARK_HOME'] = SPARK_HOME\n",
    "sys.path.append(SPARK_HOME_PYTHON)\n",
    "\n",
    "from pyspark import SparkContext\n",
    "from pyspark import SparkConf\n",
    "\n",
    "import geoip2.database\n",
    "reader = geoip2.database.Reader('GeoLite2-City.mmdb')\n",
    "\n",
    "def ip2city(ip):\n",
    "    try:\n",
    "        city = reader.city(ip).city.name\n",
    "    except:\n",
    "        city = 'not found'\n",
    "    return city\n",
    "\n",
    "def ip2la(ip):\n",
    "    try:\n",
    "        la = reader.city(ip).location.latitude\n",
    "    except:\n",
    "        la = 0.\n",
    "    return la\n",
    "\n",
    "def ip2lo(ip):\n",
    "    try:\n",
    "        lo = reader.city(ip).location.longitude\n",
    "    except:\n",
    "        lo = 0.\n",
    "    return lo\n"
   ]
  },
  {
   "cell_type": "code",
   "execution_count": null,
   "metadata": {
    "collapsed": true
   },
   "outputs": [],
   "source": [
    "sc = SparkContext('local', 'ip2geo')"
   ]
  },
  {
   "cell_type": "code",
   "execution_count": null,
   "metadata": {
    "collapsed": true
   },
   "outputs": [],
   "source": [
    "normalPath = 'csv/output.csv'\n",
    "attackPath = 'csv/output.csv'"
   ]
  },
  {
   "cell_type": "code",
   "execution_count": null,
   "metadata": {
    "collapsed": true
   },
   "outputs": [],
   "source": [
    "normalRaw = sc.textFile(normalPath).map(lambda x: x.split())\n",
    "attackRaw = sc.textFile(attackPath).map(lambda x: x.split())\n",
    "\n",
    "normalMax = normalRaw.map(lambda x: x[0]).max()\n",
    "normalMin = nromalRaw.map(lambda x: x[0]).min()\n",
    "attackMax = attackRaw.map(lambda x: x[0]).max()\n",
    "attackMin = attackRaw.map(lambda x: x[0]).min()\n",
    "\n",
    "normalIp = normalRaw.map(lambda x: [x[1], x[2], x[0]*100/(normalMax - normalMin)])\n",
    "attackIp = attackRaw.map(lambda x: [x[1], x[2], x[0]*100/(attackMax - attackMin)])\n",
    "\n",
    "normalSrc = normalRaw.map(lambda x: x[1])\n",
    "normalDst = normalDst.map(lambda x: x[2])\n",
    "attackSrc = attackRaw.map(lambda x: x[1])\n",
    "attackDst = attackDst.map(lambda x: x[2])\n",
    "\n",
    "allIPs = normalSrc.union(normalDst).union(attackSrc).union(attackDst).distinct().collect()\n"
   ]
  },
  {
   "cell_type": "code",
   "execution_count": null,
   "metadata": {
    "collapsed": true
   },
   "outputs": [],
   "source": [
    "geoData = []\n",
    "for ip in allIPs:\n",
    "    lo = ip2lo(ip)\n",
    "    la = ip2la(ip)\n",
    "    geoData.append({'ip' : ip,\n",
    "                    'longtitude' : lo,\n",
    "                    'lantitude' : la})"
   ]
  },
  {
   "cell_type": "code",
   "execution_count": null,
   "metadata": {
    "collapsed": true
   },
   "outputs": [],
   "source": [
    "attackNum = 1000\n",
    "normalNum = 1000\n",
    "victimNum = 1000\n",
    "\n",
    "attackDS = []\n",
    "for x in attackIps.take(attackNum):\n",
    "    src = x[0]\n",
    "    dst = x[1]\n",
    "    val = x[2]\n",
    "    attackDS .append({'source': src,\n",
    "                      'destination' : dst,\n",
    "                      'value' : val})\n",
    "    \n",
    "normalDS = []\n",
    "for x in normalIps.take(normalNum):\n",
    "    src = x[0]\n",
    "    dst = x[1]\n",
    "    val = x[2]\n",
    "    normalDS .append({'source': src,\n",
    "                      'destination' : dst,\n",
    "                      'value' : val})"
   ]
  },
  {
   "cell_type": "code",
   "execution_count": null,
   "metadata": {
    "collapsed": true
   },
   "outputs": [],
   "source": [
    "victimeData = []\n",
    "victimIPs = attackIps.takeOrdered(victimNum, key = lambda x: -x[2])\n",
    "for x in victimeIPs:\n",
    "    dst = x[1]\n",
    "    val = x[2]\n",
    "    victimData.append({'destination' : dst,\n",
    "                       'value' :val})"
   ]
  },
  {
   "cell_type": "code",
   "execution_count": null,
   "metadata": {
    "collapsed": true
   },
   "outputs": [],
   "source": [
    "ipDistribution = {'geoData' : geoData,\n",
    "                  'attackDS' : attackDS,\n",
    "                  'normalDS' : normalDS,\n",
    "                  'victimData' : victimData}"
   ]
  },
  {
   "cell_type": "code",
   "execution_count": null,
   "metadata": {
    "collapsed": true
   },
   "outputs": [],
   "source": [
    "import pymongo\n",
    "from pymongo import MongoClient\n",
    "client = MongoClient()\n",
    "\n",
    "dbName = 'test'\n",
    "collectionName = 'ipDist'\n",
    "\n",
    "db = client[dbName]\n",
    "collection = db[collectionName]\n",
    "\n",
    "collection.insert_one(ipDistribution)"
   ]
  },
  {
   "cell_type": "code",
   "execution_count": null,
   "metadata": {
    "collapsed": true
   },
   "outputs": [],
   "source": [
    "sc.stop()"
   ]
  }
 ],
 "metadata": {
  "kernelspec": {
   "display_name": "Python 2",
   "language": "python",
   "name": "python2"
  },
  "language_info": {
   "codemirror_mode": {
    "name": "ipython",
    "version": 2
   },
   "file_extension": ".py",
   "mimetype": "text/x-python",
   "name": "python",
   "nbconvert_exporter": "python",
   "pygments_lexer": "ipython2",
   "version": "2.7.6"
  }
 },
 "nbformat": 4,
 "nbformat_minor": 0
}
