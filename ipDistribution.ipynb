{
 "cells": [
  {
   "cell_type": "code",
   "execution_count": 1,
   "metadata": {
    "collapsed": true
   },
   "outputs": [],
   "source": [
    "#spark\n",
    "__author__ = 'vcoder'\n",
    "\n",
    "import os\n",
    "import sys\n",
    "\n",
    "#change them when spark and pyspark path changes\n",
    "\n",
    "#SPARK_HOME = \"/home/vcoder/EDA/spark-1.5.0\"\n",
    "#SPARK_HOME_PYTHON = SPARK_HOME + \"/python\"\n",
    "\n",
    "SPARK_HOME = \"/home/worker/software/spark-1.5.0\"\n",
    "SPARK_HOME_PYTHON = SPARK_HOME + \"/python\"\n",
    "\n",
    "os.environ['SPARK_HOME'] = SPARK_HOME\n",
    "sys.path.append(SPARK_HOME_PYTHON)\n",
    "\n",
    "from pyspark import SparkContext\n",
    "from pyspark import SparkConf\n",
    "\n",
    "import geoip2.database\n",
    "reader = geoip2.database.Reader('GeoLite2-City.mmdb')\n",
    "\n",
    "def ip2city(ip):\n",
    "    try:\n",
    "        city = reader.city(ip).city.name\n",
    "    except:\n",
    "        city = 'not found'\n",
    "    return city\n",
    "\n",
    "def ip2la(ip):\n",
    "    try:\n",
    "        la = reader.city(ip).location.latitude\n",
    "    except:\n",
    "        la = 0.\n",
    "    return la\n",
    "\n",
    "def ip2lo(ip):\n",
    "    try:\n",
    "        lo = reader.city(ip).location.longitude\n",
    "    except:\n",
    "        lo = 0.\n",
    "    return lo\n"
   ]
  },
  {
   "cell_type": "code",
   "execution_count": 2,
   "metadata": {
    "collapsed": false
   },
   "outputs": [],
   "source": [
    "sc = SparkContext('local', 'ip2geo')"
   ]
  },
  {
   "cell_type": "code",
   "execution_count": 3,
   "metadata": {
    "collapsed": true
   },
   "outputs": [],
   "source": [
    "normalPath = 'csv/normal.csv'\n",
    "attackPath = 'csv/attack.csv'"
   ]
  },
  {
   "cell_type": "code",
   "execution_count": 4,
   "metadata": {
    "collapsed": false
   },
   "outputs": [],
   "source": [
    "normalRaw = sc.textFile(normalPath).map(lambda x: x.split()).filter(lambda x: len(x) == 3) #delimiter may need to change\n",
    "# print normalRaw.take(10)\n",
    "attackRaw = sc.textFile(attackPath).map(lambda x: x.split()).filter(lambda x: len(x) == 3)\n",
    "# print attackRaw.take(10)\n",
    "normalMax = normalRaw.map(lambda x: float(x[0])).max()\n",
    "# print normalMax\n",
    "normalMin = normalRaw.map(lambda x: float(x[0])).min()\n",
    "# print normalMin\n",
    "attackMax = attackRaw.map(lambda x: float(x[0])).max()\n",
    "# print attackMax\n",
    "attackMin = attackRaw.map(lambda x: float(x[0])).min()\n",
    "# print attackMin\n"
   ]
  },
  {
   "cell_type": "code",
   "execution_count": 5,
   "metadata": {
    "collapsed": false,
    "scrolled": true
   },
   "outputs": [],
   "source": [
    "normalIp = normalRaw.map(lambda x: [x[1], x[2], float(x[0])*100/(normalMax - normalMin)])\n",
    "attackIp = attackRaw.map(lambda x: [x[1], x[2], float(x[0])*100/(attackMax - attackMin)])\n",
    "\n",
    "# attackx = attackIp.map(lambda x: len(x))\n",
    "# print attackx.filter(lambda x: x < 3).collect()\n",
    "\n",
    "# normalx = normalIp.map(lambda x: len(x))\n",
    "# print normalx.filter(lambda x: x < 3).collect()\n",
    "# print normalIp.take(5)\n",
    "# print normalRaw.takeOrdered(10, key = lambda x: -float(x[0]))\n",
    "# print normalRaw.map(lambda x:len(x)).count()"
   ]
  },
  {
   "cell_type": "code",
   "execution_count": 7,
   "metadata": {
    "collapsed": false
   },
   "outputs": [],
   "source": [
    "# print normalIp.count()"
   ]
  },
  {
   "cell_type": "code",
   "execution_count": 6,
   "metadata": {
    "collapsed": false
   },
   "outputs": [],
   "source": [
    "#original un-optimized src and dst IP set\n",
    "#it can be very slow when the data is very big\n",
    "#so use the top Num instead\n",
    "# normalSrc = normalRaw.map(lambda x: x[1])\n",
    "# normalDst = normalRaw.map(lambda x: x[2])\n",
    "# attackSrc = attackRaw.map(lambda x: x[1])\n",
    "# attackDst = attackRaw.map(lambda x: x[2])\n",
    "\n",
    "# print normalSrc.take(10)\n",
    "# print normalDst.take(10)\n",
    "# print attackSrc.take(10)\n",
    "# print attackDst.take(10)\n",
    "attackNum = 1000\n",
    "normalNum = 1000\n",
    "\n",
    "normalSrc = sc.parallelize(normalIp.takeOrdered(normalNum, key = lambda x: -x[2])).map(lambda x: x[0])\n",
    "normalDst = sc.parallelize(normalIp.takeOrdered(normalNum, key = lambda x: -x[2])).map(lambda x: x[1])\n",
    "\n",
    "attackSrc = sc.parallelize(normalIp.takeOrdered(normalNum, key = lambda x: -x[2])).map(lambda x: x[0])\n",
    "attackDst = sc.parallelize(normalIp.takeOrdered(normalNum, key = lambda x: -x[2])).map(lambda x: x[1])\n"
   ]
  },
  {
   "cell_type": "code",
   "execution_count": 7,
   "metadata": {
    "collapsed": false
   },
   "outputs": [],
   "source": [
    "allIPs = normalSrc.union(normalDst).union(attackSrc).union(attackDst).distinct().collect()\n",
    "# print allIPs[0:9]"
   ]
  },
  {
   "cell_type": "code",
   "execution_count": 8,
   "metadata": {
    "collapsed": true
   },
   "outputs": [],
   "source": [
    "geoData = []\n",
    "for ip in allIPs:\n",
    "    lo = ip2lo(ip)\n",
    "    la = ip2la(ip)\n",
    "    geoData.append({'ip' : ip,\n",
    "                    'longitude' : lo,\n",
    "                    'lantitude' : la})"
   ]
  },
  {
   "cell_type": "code",
   "execution_count": 9,
   "metadata": {
    "collapsed": false
   },
   "outputs": [],
   "source": [
    "attackNum = 1000\n",
    "normalNum = 1000\n",
    "victimNum = 1000\n",
    "\n",
    "attackDS = []\n",
    "for x in attackIp.takeOrdered(attackNum, key = lambda x: -x[2]):\n",
    "    src = x[0]\n",
    "    dst = x[1]\n",
    "    val = x[2]\n",
    "    attackDS .append({'source': src,\n",
    "                      'destination' : dst,\n",
    "                      'value' : val})\n",
    "    \n",
    "normalDS = []\n",
    "for x in normalIp.takeOrdered(normalNum, key = lambda x: -x[2]):\n",
    "    src = x[0]\n",
    "    dst = x[1]\n",
    "    val = x[2]\n",
    "    normalDS .append({'source': src,\n",
    "                      'destination' : dst,\n",
    "                      'value' : val})"
   ]
  },
  {
   "cell_type": "code",
   "execution_count": 10,
   "metadata": {
    "collapsed": false
   },
   "outputs": [],
   "source": [
    "victimData = []\n",
    "victimIPs = attackIp.takeOrdered(victimNum, key = lambda x: -x[2])\n",
    "for x in victimIPs:\n",
    "    dst = x[1]\n",
    "    val = x[2]\n",
    "    victimData.append({'destination' : dst,\n",
    "                       'value' :val})"
   ]
  },
  {
   "cell_type": "code",
   "execution_count": 11,
   "metadata": {
    "collapsed": false
   },
   "outputs": [],
   "source": [
    "import sys\n",
    "ipDistribution = {'recordID': 1,#sys.argv[1], #add arg!!!!!!!!\n",
    "                  'geoData' : geoData,\n",
    "                  'attackDS' : attackDS,\n",
    "                  'normalDS' : normalDS,\n",
    "                  'victimData' : victimData}"
   ]
  },
  {
   "cell_type": "code",
   "execution_count": 12,
   "metadata": {
    "collapsed": false
   },
   "outputs": [
    {
     "data": {
      "text/plain": [
       "<pymongo.results.InsertOneResult at 0x7f01146f9550>"
      ]
     },
     "execution_count": 12,
     "metadata": {},
     "output_type": "execute_result"
    }
   ],
   "source": [
    "import pymongo\n",
    "from pymongo import MongoClient\n",
    "client = MongoClient()\n",
    "\n",
    "dbName = 'test'\n",
    "collectionName = 'maps'\n",
    "\n",
    "db = client[dbName]\n",
    "collection = db[collectionName]\n",
    "\n",
    "collection.insert_one(ipDistribution)"
   ]
  },
  {
   "cell_type": "code",
   "execution_count": 14,
   "metadata": {
    "collapsed": true
   },
   "outputs": [],
   "source": [
    "sc.stop()"
   ]
  }
 ],
 "metadata": {
  "kernelspec": {
   "display_name": "Python 2",
   "language": "python",
   "name": "python2"
  },
  "language_info": {
   "codemirror_mode": {
    "name": "ipython",
    "version": 2
   },
   "file_extension": ".py",
   "mimetype": "text/x-python",
   "name": "python",
   "nbconvert_exporter": "python",
   "pygments_lexer": "ipython2",
   "version": "2.7.6"
  }
 },
 "nbformat": 4,
 "nbformat_minor": 0
}
